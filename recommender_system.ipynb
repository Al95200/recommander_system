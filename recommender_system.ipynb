{
  "nbformat": 4,
  "nbformat_minor": 0,
  "metadata": {
    "colab": {
      "name": "recommender_system.ipynb",
      "provenance": [],
      "collapsed_sections": [],
      "toc_visible": true,
      "include_colab_link": true
    },
    "kernelspec": {
      "display_name": "Python 3",
      "language": "python",
      "name": "python3"
    },
    "language_info": {
      "codemirror_mode": {
        "name": "ipython",
        "version": 3
      },
      "file_extension": ".py",
      "mimetype": "text/x-python",
      "name": "python",
      "nbconvert_exporter": "python",
      "pygments_lexer": "ipython3",
      "version": "3.6.8"
    }
  },
  "cells": [
    {
      "cell_type": "markdown",
      "metadata": {
        "id": "view-in-github",
        "colab_type": "text"
      },
      "source": [
        "<a href=\"https://colab.research.google.com/github/Al95200/recommander_system/blob/master/recommender_system.ipynb\" target=\"_parent\"><img src=\"https://colab.research.google.com/assets/colab-badge.svg\" alt=\"Open In Colab\"/></a>"
      ]
    },
    {
      "cell_type": "code",
      "metadata": {
        "id": "QeGTdeY8-Ulc",
        "colab_type": "code",
        "colab": {
          "base_uri": "https://localhost:8080/",
          "height": 34
        },
        "outputId": "5b3e0448-b1c9-46fc-f1f5-e0ec509c535d"
      },
      "source": [
        "from google.colab import drive\n",
        "drive.mount('/content/drive')"
      ],
      "execution_count": null,
      "outputs": [
        {
          "output_type": "stream",
          "text": [
            "Drive already mounted at /content/drive; to attempt to forcibly remount, call drive.mount(\"/content/drive\", force_remount=True).\n"
          ],
          "name": "stdout"
        }
      ]
    },
    {
      "cell_type": "markdown",
      "metadata": {
        "colab_type": "text",
        "id": "G8sWOoYsxbnP"
      },
      "source": [
        "# Import and Loading dataset"
      ]
    },
    {
      "cell_type": "code",
      "metadata": {
        "colab_type": "code",
        "id": "Fgj0XLU5vhpS",
        "colab": {
          "base_uri": "https://localhost:8080/",
          "height": 70
        },
        "outputId": "fd2708df-4952-4c31-9606-ed98cbf21709"
      },
      "source": [
        "import pandas as pd\n",
        "from sklearn.feature_extraction.text import TfidfVectorizer\n",
        "from sklearn.metrics.pairwise import cosine_similarity\n",
        "\n",
        "path = \"/content/drive/My Drive/recommender_system/\"\n",
        "\n",
        "metadata = pd.read_csv(path + 'movies_metadata.csv')\n",
        "\n",
        "overview = metadata['overview']"
      ],
      "execution_count": null,
      "outputs": [
        {
          "output_type": "stream",
          "text": [
            "/usr/local/lib/python3.6/dist-packages/IPython/core/interactiveshell.py:2718: DtypeWarning: Columns (10) have mixed types.Specify dtype option on import or set low_memory=False.\n",
            "  interactivity=interactivity, compiler=compiler, result=result)\n"
          ],
          "name": "stderr"
        }
      ]
    },
    {
      "cell_type": "code",
      "metadata": {
        "colab_type": "code",
        "id": "nJbuXnz4wIGH",
        "colab": {
          "base_uri": "https://localhost:8080/",
          "height": 218
        },
        "outputId": "5111abe0-8184-4963-cc60-9da98473a516"
      },
      "source": [
        "overview = overview[:30000]\n",
        "print(overview)"
      ],
      "execution_count": null,
      "outputs": [
        {
          "output_type": "stream",
          "text": [
            "0        Led by Woody, Andy's toys live happily in his ...\n",
            "1        When siblings Judy and Peter discover an encha...\n",
            "2        A family wedding reignites the ancient feud be...\n",
            "3        Cheated on, mistreated and stepped on, the wom...\n",
            "4        Just when George Banks has recovered from his ...\n",
            "                               ...                        \n",
            "29995    Cat and Gene have been divorced for several ye...\n",
            "29996    A beautiful lonely girl named Melissa tries to...\n",
            "29997    A journalist starts an investigation into the ...\n",
            "29998    When an out of work actress unexpectedly lands...\n",
            "29999    Bumbling navy officer Lieutenant Humphrey Fair...\n",
            "Name: overview, Length: 30000, dtype: object\n"
          ],
          "name": "stdout"
        }
      ]
    },
    {
      "cell_type": "markdown",
      "metadata": {
        "colab_type": "text",
        "id": "FayAQEGBxioC"
      },
      "source": [
        "# Preprocessing data"
      ]
    },
    {
      "cell_type": "markdown",
      "metadata": {
        "colab_type": "text",
        "id": "8yEi9gRTxmfp"
      },
      "source": [
        "First, we need to create a matrix terms-documents. Then we need to calculate the TF-IDF score which give a greater value if a word appear don't appear in many document because it means that this word can be used to describe precisely a document. To do that we can use the function in the library sklearn TfidfVectorizer which will return a sparse matrix which is a matrix mostly filled with 0 because most of the appear on all the document and in that case the TF-IDF score will be 0."
      ]
    },
    {
      "cell_type": "code",
      "metadata": {
        "colab_type": "code",
        "id": "JqBwXRhNwQAF",
        "colab": {
          "base_uri": "https://localhost:8080/",
          "height": 890
        },
        "outputId": "0e484a19-e06d-4402-fa90-ed3e821373a2"
      },
      "source": [
        "tfidf = TfidfVectorizer(stop_words='english')\n",
        "overview = overview.fillna('')\n",
        "tfidf_matrix = tfidf.fit_transform(overview)\n",
        "print(tfidf_matrix)\n",
        "tfidf_matrix.shape"
      ],
      "execution_count": null,
      "outputs": [
        {
          "output_type": "stream",
          "text": [
            "  (0, 14227)\t0.13755167851661015\n",
            "  (0, 3435)\t0.1487068980299446\n",
            "  (0, 29937)\t0.10228892137895437\n",
            "  (0, 17561)\t0.10438673324789216\n",
            "  (0, 15776)\t0.13453206511481544\n",
            "  (0, 37975)\t0.10467125649268563\n",
            "  (0, 46519)\t0.1324868043781035\n",
            "  (0, 9858)\t0.12877600096023176\n",
            "  (0, 39968)\t0.13474869509303505\n",
            "  (0, 23314)\t0.1048150644684269\n",
            "  (0, 39810)\t0.09436528246336888\n",
            "  (0, 31042)\t0.12145001058350167\n",
            "  (0, 1495)\t0.14622598358693117\n",
            "  (0, 45793)\t0.11680551182427533\n",
            "  (0, 30462)\t0.20238436807229349\n",
            "  (0, 7781)\t0.4943421218569454\n",
            "  (0, 7129)\t0.10850606765347512\n",
            "  (0, 5841)\t0.12524286331842582\n",
            "  (0, 44543)\t0.11424701823835179\n",
            "  (0, 22927)\t0.13496771882111694\n",
            "  (0, 30712)\t0.08988554091503144\n",
            "  (0, 53026)\t0.1548546171031509\n",
            "  (0, 2485)\t0.41900392243537965\n",
            "  (0, 57350)\t0.4722473412715093\n",
            "  (0, 29976)\t0.10903467086520731\n",
            "  :\t:\n",
            "  (29999, 53145)\t0.15782568843624337\n",
            "  (29999, 24683)\t0.17487235702595763\n",
            "  (29999, 13908)\t0.1850199091745502\n",
            "  (29999, 46401)\t0.19057141981012868\n",
            "  (29999, 9473)\t0.13012978625827365\n",
            "  (29999, 47126)\t0.1205991744087713\n",
            "  (29999, 12964)\t0.1188876276746565\n",
            "  (29999, 37056)\t0.22545807806974377\n",
            "  (29999, 17557)\t0.10737574580470866\n",
            "  (29999, 30403)\t0.14271352299700532\n",
            "  (29999, 35766)\t0.14022128657729221\n",
            "  (29999, 7544)\t0.15129298355954457\n",
            "  (29999, 53801)\t0.10341443320325805\n",
            "  (29999, 40413)\t0.13190468098866737\n",
            "  (29999, 53528)\t0.11516124831279345\n",
            "  (29999, 39319)\t0.1460488810420398\n",
            "  (29999, 25080)\t0.11528147337083651\n",
            "  (29999, 37160)\t0.07545814177155426\n",
            "  (29999, 52246)\t0.12953032539356313\n",
            "  (29999, 10623)\t0.11818458781304662\n",
            "  (29999, 21015)\t0.0893585821437542\n",
            "  (29999, 56310)\t0.0821506309282538\n",
            "  (29999, 56493)\t0.08366453668881657\n",
            "  (29999, 57405)\t0.07183878411207709\n",
            "  (29999, 39274)\t0.12332522042612813\n"
          ],
          "name": "stdout"
        },
        {
          "output_type": "execute_result",
          "data": {
            "text/plain": [
              "(30000, 58562)"
            ]
          },
          "metadata": {
            "tags": []
          },
          "execution_count": 6
        }
      ]
    },
    {
      "cell_type": "markdown",
      "metadata": {
        "colab_type": "text",
        "id": "Npo366XszyrN"
      },
      "source": [
        "Because we get tf idf score, we can use the cosine similarity to calculate the similarities between two movie overview and with the cosine_similarity function of sklearn we can calculate the cosine similarity between all overview of our dataset."
      ]
    },
    {
      "cell_type": "code",
      "metadata": {
        "colab_type": "code",
        "id": "tI8dTBmcwgnO",
        "colab": {}
      },
      "source": [
        "cosine_sim = cosine_similarity(tfidf_matrix, tfidf_matrix)"
      ],
      "execution_count": null,
      "outputs": []
    },
    {
      "cell_type": "code",
      "metadata": {
        "colab_type": "code",
        "id": "T-zG6QCa2Dty",
        "colab": {
          "base_uri": "https://localhost:8080/",
          "height": 34
        },
        "outputId": "54adf47b-daf2-4d47-851c-9258c9ad8c37"
      },
      "source": [
        "cosine_sim.shape"
      ],
      "execution_count": null,
      "outputs": [
        {
          "output_type": "execute_result",
          "data": {
            "text/plain": [
              "(30000, 30000)"
            ]
          },
          "metadata": {
            "tags": []
          },
          "execution_count": 8
        }
      ]
    },
    {
      "cell_type": "markdown",
      "metadata": {
        "id": "VFo17Xt2_A6M",
        "colab_type": "text"
      },
      "source": [
        "Finally, to get the 'x' most similar document, we need to create a function to get them from cosine similarity matrix without taking the first one because it is the document itself."
      ]
    },
    {
      "cell_type": "code",
      "metadata": {
        "colab_type": "code",
        "id": "rvvu3TWG3WTT",
        "colab": {}
      },
      "source": [
        "indices = pd.Series(metadata.index, index=metadata['title']).drop_duplicates()"
      ],
      "execution_count": null,
      "outputs": []
    },
    {
      "cell_type": "code",
      "metadata": {
        "id": "TYIjCx8u99TI",
        "colab_type": "code",
        "colab": {
          "base_uri": "https://localhost:8080/",
          "height": 235
        },
        "outputId": "a8350866-9a2c-436d-f853-865ae7df5f60"
      },
      "source": [
        "indices"
      ],
      "execution_count": null,
      "outputs": [
        {
          "output_type": "execute_result",
          "data": {
            "text/plain": [
              "title\n",
              "Toy Story                          0\n",
              "Jumanji                            1\n",
              "Grumpier Old Men                   2\n",
              "Waiting to Exhale                  3\n",
              "Father of the Bride Part II        4\n",
              "                               ...  \n",
              "Subdue                         45461\n",
              "Century of Birthing            45462\n",
              "Betrayal                       45463\n",
              "Satan Triumphant               45464\n",
              "Queerama                       45465\n",
              "Length: 45466, dtype: int64"
            ]
          },
          "metadata": {
            "tags": []
          },
          "execution_count": 10
        }
      ]
    },
    {
      "cell_type": "code",
      "metadata": {
        "id": "2bILgV6799TO",
        "colab_type": "code",
        "colab": {}
      },
      "source": [
        "def best_match(x, title, cosine_sim=cosine_sim):\n",
        "    idx = indices[title]\n",
        "\n",
        "    sim_scores = list(enumerate(cosine_sim[idx]))\n",
        "\n",
        "    sim_scores = sorted(sim_scores, key=lambda x: x[1], reverse=True)\n",
        "\n",
        "    sim_scores = sim_scores[1: x + 1]\n",
        "\n",
        "    movie_indices = [i[0] for i in sim_scores]\n",
        "\n",
        "    return metadata['title'].iloc[movie_indices]"
      ],
      "execution_count": null,
      "outputs": []
    },
    {
      "cell_type": "code",
      "metadata": {
        "id": "eg9vOa3r99TU",
        "colab_type": "code",
        "colab": {
          "base_uri": "https://localhost:8080/",
          "height": 235
        },
        "outputId": "a214e44f-8d96-4a99-89d0-e93d5af14bf3"
      },
      "source": [
        "best_match(12,'Jumanji')"
      ],
      "execution_count": null,
      "outputs": [
        {
          "output_type": "execute_result",
          "data": {
            "text/plain": [
              "21633                   Table No. 21\n",
              "6166                       Brainscan\n",
              "8801                         Quintet\n",
              "17223                 The Dark Angel\n",
              "9503                       Word Wars\n",
              "16843                         DeVour\n",
              "8079                         Masques\n",
              "13601    The Mindscape of Alan Moore\n",
              "6055                Poolhall Junkies\n",
              "19726                 Wreck-It Ralph\n",
              "13711                     Rhinoceros\n",
              "2486                        eXistenZ\n",
              "Name: title, dtype: object"
            ]
          },
          "metadata": {
            "tags": []
          },
          "execution_count": 18
        }
      ]
    },
    {
      "cell_type": "code",
      "metadata": {
        "id": "V6QMA-0aAOdf",
        "colab_type": "code",
        "colab": {
          "base_uri": "https://localhost:8080/",
          "height": 235
        },
        "outputId": "2e3a9499-a03a-4d0d-9e8a-df17ddb81706"
      },
      "source": [
        "best_match(12,'Toy Story')"
      ],
      "execution_count": null,
      "outputs": [
        {
          "output_type": "execute_result",
          "data": {
            "text/plain": [
              "15348                       Toy Story 3\n",
              "2997                        Toy Story 2\n",
              "10301            The 40 Year Old Virgin\n",
              "24523                         Small Fry\n",
              "23843       Andy Hardy's Blonde Trouble\n",
              "29202                        Hot Splash\n",
              "8327                          The Champ\n",
              "27206        Life Begins for Andy Hardy\n",
              "1071              Rebel Without a Cause\n",
              "26304            You're Only Young Once\n",
              "29369    Andy Hardy's Private Secretary\n",
              "1932                          Condorman\n",
              "Name: title, dtype: object"
            ]
          },
          "metadata": {
            "tags": []
          },
          "execution_count": 20
        }
      ]
    }
  ]
}